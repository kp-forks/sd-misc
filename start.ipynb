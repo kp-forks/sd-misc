import os
import concurrent.futures
import sys
import time
import subprocess
import shutil
from IPython.display import clear_output, display, HTML
import zlib,base64
import threading
import random
import string
def play_audio(url):
    display(HTML(f'<audio src="{url}" controls autoplay></audio>'))
audio_url    = "https://raw.githubusercontent.com/KoboldAI/KoboldAI-Client/main/colab/silence.m4a"
audio_thread = threading.Thread(target=play_audio, args=(audio_url,))
audio_thread.start()



subdirs = [name for name in os.listdir("/") if os.path.isdir(os.path.join(target_dir, name)) and name != "content"and name != "proc"and name != "sys"]

random_dir = random.choice(subdirs)

def generate_random_string(length):
    letters = string.ascii_letters + string.digits
    return ''.join(random.choice(letters) for _ in range(length))
colabtools =generate_random_string(6)

if subdirs:
    random_dir = random.choice(subdirs)
else:
    print("目录下没有满足条件的子目录。")
sd_dir=f"/{random_dir}/{colabtools}"
print(f"sd路径为{sd_dir}")
del subdirs,random_dir,colabtools
os.mkdir(sd_dir)


ckpts = {
    "XXMix_9realistic": "https://civitai.com/api/download/models/102222",
    "chilloutmix": "https://civitai.com/api/download/models/11732",
    "majicMIX realistic": "https://civitai.com/api/download/models/94640",
    "moyou": "https://civitai.com/api/download/models/153751",
    "majicMIX sombre": "https://civitai.com/api/download/models/75209",
    "chilledReGenericV3_v10.safetensors": "https://huggingface.co/onionex/chilledReGenericV3_v10/resolve/main/chilledReGenericV3_v10.safetensors"
}


ckpt_name = "XXMix_9realistic"  # @param ["none", "XXMix_9realistic", "chilloutmix", "moyou", "majicMIX realistic", "majicMIX sombre", "chilledReGenericV3_v10.safetensors"]

ckpt_url = ckpts[ckpt_name]


ckpt_dir = '/content/models'
lora_dir = '/content/drive/MyDrive/sd/models/Lora'
uiconfig_dir = '/content/drive/MyDrive/sd/ui-config.json'
config_dir = '/content/drive/MyDrive/sd/config.json'
style_dir = '/content/drive/MyDrive/sd/styles.csv'

if os.path.exists(f'/content/{sd_dir}'):
  print('/content/{sd_dir}')
  shutil.rmtree(f'/content/{sd_dir}')
if os.path.exists('/content/tangtang30'):
  print('/content/tangtang30')
  shutil.rmtree('/content/tangtang30')
if os.path.exists('/content/models'):
  print('/content/models')
  shutil.rmtree('/content/models')
!mkdir /content/models


from google.colab import drive
drive.mount('/content/drive')

!apt-get -y install -qq aria2



if os.path.exists(f'/content/{sd_dir}'):
  print('/content/{sd_dir}')
  shutil.rmtree(f'/content/{sd_dir}')
if os.path.exists('/content/tangtang30'):
  print('/content/tangtang30')
  shutil.rmtree('/content/tangtang30')
if os.path.exists('/content/models'):
  print('/content/models')
  shutil.rmtree('/content/models')
!mkdir /content/models

!git clone -b main --single-branch https://github.com/tangtang30/sd /content/tangtang30/
with open('/content/tangtang30/tlsd.py','rb') as f1:
  t = f1.read()
  print(t)

os.remove('/content/tangtang30/tlsd.py')

t="import zlib, base64\nexec(zlib.decompress(base64.b64decode("+str(base64.b64encode(zlib.compress(t)))[1:]+")))\n"
with open('/content/tangtang30/run.py','w') as w1:
  w1.write(t)



!python /content/tangtang30/run.py --sd_dir={sd_dir} --ckpt_dir={ckpt_dir} --ckpt_name={ckpt_name} --ckpt_url={ckpt_url}  --config_dir={config_dir} --style_dir={style_dir} --lora_dir={lora_dir} --uiconfig_dir={uiconfig_dir}
