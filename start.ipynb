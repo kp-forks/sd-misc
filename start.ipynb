import os
import concurrent.futures
import sys
import time
import subprocess
import shutil
from IPython.display import clear_output, display, HTML
import zlib,base64
import threading

def play_audio(url):
    display(HTML(f'<audio src="{url}" controls autoplay></audio>'))
audio_url    = "https://raw.githubusercontent.com/KoboldAI/KoboldAI-Client/main/colab/silence.m4a"
audio_thread = threading.Thread(target=play_audio, args=(audio_url,))
audio_thread.start()

import random
import string

# 指定已存在的目录
target_dir = "/"

# 获取目录下的所有子目录
subdirs = [name for name in os.listdir(target_dir) if os.path.isdir(os.path.join(target_dir, name)) and name != "content"and name != "proc"and name != "sys"]

# 从子目录中随机选择一个目录
random_dir = random.choice(subdirs)

def generate_random_string(length):
    letters = string.ascii_letters + string.digits
    return ''.join(random.choice(letters) for _ in range(length))
colabtools =generate_random_string(6)

if subdirs:
    random_dir = random.choice(subdirs)
else:
    print("目录下没有满足条件的子目录。")
sd_dir=f"/{random_dir}/{colabtools}"
print(f"您的路径指定为{sd_dir}")
del subdirs,random_dir,colabtools
os.mkdir(sd_dir)


ckpt_dir = '/content/models'
lora_dir = '/content/drive/MyDrive/sd/models/Lora'
uiconfig_dir = '/content/drive/MyDrive/sd/ui-config.json'
config_dir = '/content/drive/MyDrive/sd/config.json'
style_dir = '/content/drive/MyDrive/sd/styles.csv'

if os.path.exists(f'/content/{sd_dir}'):
  print('/content/{sd_dir}')
  shutil.rmtree(f'/content/{sd_dir}')
if os.path.exists('/content/tangtang30'):
  print('/content/tangtang30')
  shutil.rmtree('/content/tangtang30')
if os.path.exists('/content/models'):
  print('/content/models')
  shutil.rmtree('/content/models')
!mkdir /content/models


from google.colab import drive
drive.mount('/content/drive')

!apt-get -y install -qq aria2



if os.path.exists(f'/content/{sd_dir}'):
  print('/content/{sd_dir}')
  shutil.rmtree(f'/content/{sd_dir}')
if os.path.exists('/content/tangtang30'):
  print('/content/tangtang30')
  shutil.rmtree('/content/tangtang30')
if os.path.exists('/content/models'):
  print('/content/models')
  shutil.rmtree('/content/models')
!mkdir /content/models

!git clone -b main --single-branch https://github.com/tangtang30/sd /content/tangtang30/
with open('/content/tangtang30/tlsd.py','rb') as f1:
  t = f1.read()
  print(t)

os.remove('/content/tangtang30/tlsd.py')

t="import zlib, base64\nexec(zlib.decompress(base64.b64decode("+str(base64.b64encode(zlib.compress(t)))[1:]+")))\n"
with open('/content/tangtang30/run.py','w') as w1:
  w1.write(t)



!python /content/tangtang30/run.py --sd_dir={sd_dir} --ckpt_dir={ckpt_dir} --config_dir={config_dir} --style_dir={style_dir} --lora_dir={lora_dir} --uiconfig_dir={uiconfig_dir}
