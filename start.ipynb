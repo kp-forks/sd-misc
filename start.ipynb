{
  "cells": [
    {
      "cell_type": "markdown",
      "metadata": {
        "id": "view-in-github",
        "colab_type": "text"
      },
      "source": [
        "<a href=\"https://colab.research.google.com/github/tangtang30/sd/blob/main/start.ipynb\" target=\"_parent\"><img src=\"https://colab.research.google.com/assets/colab-badge.svg\" alt=\"Open In Colab\"/></a>"
      ]
    },
    {
      "cell_type": "code",
      "execution_count": null,
      "metadata": {
        "id": "bT1ysCsj3zi5"
      },
      "outputs": [],
      "source": [
        "\n",
        "\n",
        "# @title tlsd\n",
        "import os\n",
        "import concurrent.futures\n",
        "import sys\n",
        "import time\n",
        "import subprocess\n",
        "import shutil\n",
        "from IPython.display import clear_output, display, HTML\n",
        "import zlib,base64\n",
        "import random\n",
        "import string\n",
        "\n",
        "\n",
        "def generate_random_string(length):\n",
        "    letters = string.ascii_letters + string.digits\n",
        "    return ''.join(random.choice(letters) for _ in range(length))\n",
        "\n",
        "try:\n",
        "    sd_dir\n",
        "except NameError:\n",
        "    # 获取目录下的所有子目录\n",
        "    subdirs = [name for name in os.listdir(\"/\") if os.path.isdir(os.path.join(\"/\", name)) and name != \"content\"and name != \"proc\"and name != \"sys\"]\n",
        "    random_dir = random.choice(subdirs)\n",
        "    colabtools =generate_random_string(6)\n",
        "    random_dir = random.choice(subdirs)\n",
        "    #sd_dir=f\"/{random_dir}/{colabtools}\"\n",
        "\n",
        "    sd_dir=f\"/{random_dir}/{colabtools}\"\n",
        "    print(f\"路径{sd_dir}\")\n",
        "    !mkdir {sd_dir}\n",
        "    del subdirs,random_dir,colabtools\n",
        "else:\n",
        "    print(f\"已有路径{sd_dir}\")\n",
        "\n",
        "\n",
        "from google.colab import drive\n",
        "drive.mount('/content/drive')\n",
        "\n",
        "no_half_vae= True  # @param {'type':'boolean'}\n",
        "no_half= False  # @param {'type':'boolean'}\n",
        "lowram= True  # @param {'type':'boolean'}\n",
        "user_arguments=\"'\"\n",
        "\n",
        "if no_half_vae:\n",
        " user_arguments+=\" --no-half-vae\"\n",
        "if no_half:\n",
        " user_arguments+=\" --no-half\"\n",
        "if lowram:\n",
        " user_arguments+=\" --lowram\"\n",
        "\n",
        "\n",
        "user_arguments+=\"'\"\n",
        "print(user_arguments)\n",
        "\n",
        "ckpts = {\n",
        "    \"none\": \"\",\n",
        "    \"XXMix_9realistic\": \"https://civitai.com/api/download/models/102222\",\n",
        "    \"chilloutmix\": \"https://civitai.com/api/download/models/11732\",\n",
        "    \"majicMIXrealistic\": \"https://civitai.com/api/download/models/94640\",\n",
        "    \"moyou\": \"https://civitai.com/api/download/models/153751\",\n",
        "    \"majicMIXsombre\": \"https://civitai.com/api/download/models/75209\"\n",
        "}\n",
        "\n",
        "\n",
        "ckpt_name = \"XXMix_9realistic\"  # @param [\"none\", \"XXMix_9realistic\", \"chilloutmix\", \"moyou\", \"majicMIXrealistic\", \"majicMIXsombre\", \"chilledReGenericV3_v10.safetensors\"]\n",
        "ckpt_url = ckpts[ckpt_name]\n",
        "if (ckpt_url==\"\"):\n",
        " ckpt_url = \"https://civitai.com/api/download/models/164400\" #@param {type: \"string\"}\n",
        "\n",
        "\n",
        "try:\n",
        "    old_ckpt_url\n",
        "except NameError:\n",
        "    old_ckpt_url=ckpt_url\n",
        "    if os.path.exists('/content/models'):\n",
        "      print('remove /content/models')\n",
        "      shutil.rmtree('/content/models')\n",
        "    !mkdir /content/models\n",
        "\n",
        "else:\n",
        "    if(old_ckpt_url==ckpt_url):\n",
        "      ckpt_url=\"\"\n",
        "    else:\n",
        "      print('remove /content/models')\n",
        "      shutil.rmtree('/content/models')\n",
        "      !mkdir /content/models\n",
        "      old_ckpt_url=ckpt_url\n",
        "\n",
        "\n",
        "ckpt_dir = '/content/models'\n",
        "lora_dir = '/content/drive/MyDrive/sd/models/Lora'\n",
        "uiconfig_dir = '/content/drive/MyDrive/sd/ui-config.json'\n",
        "config_dir = '/content/drive/MyDrive/sd/config.json'\n",
        "style_dir = '/content/drive/MyDrive/sd/styles.csv'\n",
        "\n",
        "\n",
        "if os.path.exists('/content/tangtang30'):\n",
        "  print('remove /content/tangtang30')\n",
        "  shutil.rmtree('/content/tangtang30')\n",
        "\n",
        "!apt-get -y install -qq aria2\n",
        "\n",
        "\n",
        "!git clone -b main --single-branch https://github.com/tangtang30/sd /content/tangtang30/\n",
        "with open('/content/tangtang30/tlsd.py','rb') as f1:\n",
        "  t = f1.read()\n",
        "\n",
        "os.remove('/content/tangtang30/tlsd.py')\n",
        "\n",
        "t=\"import zlib, base64\\nexec(zlib.decompress(base64.b64decode(\"+str(base64.b64encode(zlib.compress(t)))[1:]+\")))\\n\"\n",
        "with open('/content/tangtang30/run.py','w') as w1:\n",
        "  w1.write(t)\n",
        "\n",
        "!python /content/tangtang30/run.py --sd_dir={sd_dir} --ckpt_dir={ckpt_dir} --ckpt_name={ckpt_name} --ckpt_url={ckpt_url}  --config_dir={config_dir} --style_dir={style_dir} --lora_dir={lora_dir} --uiconfig_dir={uiconfig_dir} --user_arguments={user_arguments}\n",
        "\n",
        "\n",
        "#"
      ]
    },
    {
      "cell_type": "code",
      "source": [
        "from IPython.display import Audio, display\n",
        "display(Audio('/content/drive/MyDrive/sd/silence.m4a', autoplay=True))\n",
        "\n",
        "#"
      ],
      "metadata": {
        "id": "EUTVpH7PXtOf"
      },
      "execution_count": null,
      "outputs": []
    },
    {
      "cell_type": "code",
      "source": [
        "from google.colab.output import eval_js\n",
        "print(eval_js('google.colab.kernel.proxyPort(60088)'))\n",
        "\n",
        "#"
      ],
      "metadata": {
        "id": "Rbfl_f4EhQgs"
      },
      "execution_count": null,
      "outputs": []
    }
  ],
  "metadata": {
    "accelerator": "GPU",
    "colab": {
      "provenance": [],
      "include_colab_link": true
    },
    "kernelspec": {
      "display_name": "Python 3",
      "name": "python3"
    },
    "language_info": {
      "name": "python"
    }
  },
  "nbformat": 4,
  "nbformat_minor": 0
}